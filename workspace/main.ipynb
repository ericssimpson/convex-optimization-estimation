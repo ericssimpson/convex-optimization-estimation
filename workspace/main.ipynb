{
 "cells": [
  {
   "cell_type": "markdown",
   "metadata": {},
   "source": [
    "Here we demonstrate the generating of polyhedrons, whos feasible region is either empty or not. \n",
    "When given an appropriate cost vector the area contains a feasible solution. \n",
    "\n",
    "Additionally, we are keeping our decision variables (n) and our constraints (m) constant, since the problem of varying input dimension to our model significnatly increases the complexlixty of the project. This topic will be explored in more detail later in the further research section. This part of the project will likely be cut out and made into its own repository.\n",
    "\n",
    "We plot the polyhedron (for n = 2) and label whether it is bounded or not. \n",
    "With the cost vector, if the feasible solution is unbounded we can simply take the dual of it and have an infeasible problem.\n",
    "\n",
    "The linear program will take the standard form:\n",
    "minimize: z = c'x\n",
    "subject to: Ax <= b\n"
   ]
  },
  {
   "cell_type": "code",
   "execution_count": 211,
   "metadata": {},
   "outputs": [
    {
     "name": "stdout",
     "output_type": "stream",
     "text": [
      "A \n",
      "[[-1 -5]\n",
      " [-7  1]\n",
      " [ 3 10]]\n",
      "\n",
      "b \n",
      "[9 3 5]\n",
      "\n",
      "c \n",
      "[-8 -7]\n",
      "\n",
      "[ 0.55541311 -0.8020268 ]\n"
     ]
    },
    {
     "data": {
      "text/plain": [
       "(array([[-0.34246575,  0.60273973],\n",
       "        [-0.66666667, -1.66666667],\n",
       "        [10.        , -3.8       ],\n",
       "        [10.        , -2.5       ]]),\n",
       " array([ 0.55541311, -0.8020268 ]),\n",
       " <scipy.spatial._qhull.HalfspaceIntersection at 0x1a98c6ebeb0>)"
      ]
     },
     "execution_count": 211,
     "metadata": {},
     "output_type": "execute_result"
    },
    {
     "data": {
      "image/png": "[encoded data removed]",
      "text/plain": [
       "<Figure size 720x720 with 1 Axes>"
      ]
     },
     "metadata": {
      "needs_background": "light"
     },
     "output_type": "display_data"
    }
   ],
   "source": [
    "import matplotlib.pyplot as plt\n",
    "\n",
    "import numpy as np\n",
    "from scipy.spatial import HalfspaceIntersection, ConvexHull\n",
    "from scipy.optimize import linprog\n",
    "\n",
    "def feasible_point(A, b):\n",
    "    # finds the center of the largest sphere fitting in the convex hull\n",
    "    norm_vector = np.linalg.norm(A, axis=1)\n",
    "    A_ = np.hstack((A, norm_vector[:, None]))\n",
    "    b_ = b[:, None]\n",
    "    c = np.zeros((A.shape[1] + 1,))\n",
    "    c[-1] = -1\n",
    "    res = linprog(c, A_ub=A_, b_ub=b[:, None], bounds=(None, None))\n",
    "    return res.x[:-1]\n",
    "    \n",
    "def hs_intersection(A, b):\n",
    "    interior_point = feasible_point(A, b)\n",
    "    halfspaces = np.hstack((A, -b[:, None]))\n",
    "    hs = HalfspaceIntersection(halfspaces, interior_point)\n",
    "    return hs\n",
    "\n",
    "def plt_halfspace(a, b, bbox, ax):\n",
    "    if a[1] == 0:\n",
    "        ax.axvline(b / a[0])\n",
    "    else:\n",
    "        x = np.linspace(bbox[0][0], bbox[0][1], 100)\n",
    "        ax.plot(x, (b - a[0]*x) / a[1])\n",
    "\n",
    "def add_bbox(A, b, xrange, yrange):\n",
    "    A = np.vstack((A, [\n",
    "        [-1,  0],\n",
    "        [ 1,  0],\n",
    "        [ 0, -1],\n",
    "        [ 0,  1],\n",
    "    ]))\n",
    "    b = np.hstack((b, [-xrange[0], xrange[1], -yrange[0], yrange[1]]))\n",
    "    return A, b\n",
    "\n",
    "def solve_convex_set(A, b, bbox, ax=None):\n",
    "    A_, b_ = add_bbox(A, b, *bbox)\n",
    "    interior_point = feasible_point(A_, b_)\n",
    "    hs = hs_intersection(A_, b_)\n",
    "    points = hs.intersections\n",
    "    hull = ConvexHull(points)\n",
    "    return points[hull.vertices], interior_point, hs\n",
    "\n",
    "def plot_convex_set(A, b, bbox, ax=None):\n",
    "    # solve and plot just the convex set (no lines for the inequations)\n",
    "    points, interior_point, hs = solve_convex_set(A, b, bbox, ax=ax)\n",
    "    if ax is None:\n",
    "        _, ax = plt.subplots()\n",
    "    ax.set_aspect('equal')\n",
    "    ax.set_xlim(bbox[0])\n",
    "    ax.set_ylim(bbox[1])\n",
    "    ax.fill(points[:, 0], points[:, 1], 'r')\n",
    "    return points, interior_point, hs\n",
    "\n",
    "def plot_inequalities(A, b, c, bbox, ax=None):\n",
    "    # solve and plot the convex set,\n",
    "    # the inequation lines, and\n",
    "    # the interior point that was used for the halfspace intersections\n",
    "    points, interior_point, hs = plot_convex_set(A, b, bbox, ax=ax)\n",
    "    ax.plot(*interior_point, 'o')\n",
    "    print(interior_point)\n",
    "    for a_k, b_k in zip(A, b):\n",
    "        plt_halfspace(a_k, b_k, bbox, ax)\n",
    "    return points, interior_point, hs\n",
    "\n",
    "def generate_linear_program(n, m, lower_bound, upper_bound):\n",
    "\n",
    "    a_matrix = np.random.randint(lower_bound,upper_bound,size = (m,n))\n",
    "    b_vector = np.random.randint(lower_bound,upper_bound,size = (m))\n",
    "    c_vector = np.random.randint(lower_bound,upper_bound,size = (n))\n",
    "\n",
    "    # Making Ax <= b with b being positive\n",
    "    for i in range(len(b_vector)):\n",
    "        if b_vector[i] <= 0:\n",
    "            b_vector[i] = b_vector[i] * -1\n",
    "            a_matrix[i] = a_matrix[i] * -1\n",
    "    \n",
    "    return (a_matrix, b_vector, c_vector)\n",
    "\n",
    "n = 2\n",
    "m = 3\n",
    "\n",
    "lower_bound = -10\n",
    "upper_bound = 10\n",
    "\n",
    "a_matrix, b_vector, c_vector = generate_linear_program(n,m,lower_bound,upper_bound)\n",
    "\n",
    "print(f'A \\n{a_matrix}\\n')\n",
    "print(f'b \\n{b_vector}\\n')\n",
    "print(f'c \\n{c_vector}\\n')\n",
    "\n",
    "plt.rcParams['figure.figsize'] = (10, 10)\n",
    "bbox = [(-10, 10), (-10, 10)]\n",
    "fig, ax = plt.subplots()\n",
    "plot_inequalities(a_matrix, b_vector, c_vector, bbox, ax)"
   ]
  },
  {
   "cell_type": "markdown",
   "metadata": {},
   "source": []
  },
  {
   "cell_type": "code",
   "execution_count": null,
   "metadata": {},
   "outputs": [],
   "source": [
    "import pulp"
   ]
  },
  {
   "cell_type": "markdown",
   "metadata": {},
   "source": []
  },
  {
   "cell_type": "code",
   "execution_count": null,
   "metadata": {},
   "outputs": [],
   "source": [
    "import tensorflow as tf\n",
    "from tensorflow import keras"
   ]
  }
 ],
 "metadata": {
  "interpreter": {
   "hash": "ac59ebe37160ed0dfa835113d9b8498d9f09ceb179beaac4002f036b9467c963"
  },
  "kernelspec": {
   "display_name": "Python 3.9.6 64-bit",
   "language": "python",
   "name": "python3"
  },
  "language_info": {
   "codemirror_mode": {
    "name": "ipython",
    "version": 3
   },
   "file_extension": ".py",
   "mimetype": "text/x-python",
   "name": "python",
   "nbconvert_exporter": "python",
   "pygments_lexer": "ipython3",
   "version": "3.10.0"
  },
  "orig_nbformat": 4
 },
 "nbformat": 4,
 "nbformat_minor": 2
}
